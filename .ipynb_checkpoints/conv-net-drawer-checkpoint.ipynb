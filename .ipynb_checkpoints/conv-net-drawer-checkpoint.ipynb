{
 "cells": [
  {
   "cell_type": "code",
   "execution_count": 11,
   "metadata": {},
   "outputs": [],
   "source": [
    "import sys\n",
    "sys.path.append('/home/tzeny/Other/Courses/Udacity-Deep_Learning/convnet_drawer')\n",
    "\n",
    "from convnet_drawer import Model, Conv2D, MaxPooling2D, Flatten, Dense\n",
    "import config\n",
    "\n",
    "config.inter_layer_margin = 65\n",
    "config.channel_scale = 4 / 5\n",
    "\n",
    "model = Model(input_shape=(28, 28, 1))\n",
    "model.add(Conv2D(32, (5, 5), (1, 1), padding=\"same\"))\n",
    "model.add(MaxPooling2D(pool_size=(2, 2), strides=(2,2), padding=\"same\"))\n",
    "model.add(Conv2D(64, (5, 5), (1,1), padding=\"same\"))\n",
    "model.add(MaxPooling2D(pool_size=(2, 2), strides=(2,2), padding=\"same\"))\n",
    "model.add(Flatten())\n",
    "model.add(Dense(64))\n",
    "\n",
    "# save as svg file\n",
    "model.save_fig(\"example.svg\")"
   ]
  },
  {
   "cell_type": "code",
   "execution_count": null,
   "metadata": {},
   "outputs": [],
   "source": []
  }
 ],
 "metadata": {
  "kernelspec": {
   "display_name": "jupyter3_Python_3",
   "language": "python",
   "name": "jupyter3_python_3"
  },
  "language_info": {
   "codemirror_mode": {
    "name": "ipython",
    "version": 3
   },
   "file_extension": ".py",
   "mimetype": "text/x-python",
   "name": "python",
   "nbconvert_exporter": "python",
   "pygments_lexer": "ipython3",
   "version": "3.6.5"
  }
 },
 "nbformat": 4,
 "nbformat_minor": 2
}
